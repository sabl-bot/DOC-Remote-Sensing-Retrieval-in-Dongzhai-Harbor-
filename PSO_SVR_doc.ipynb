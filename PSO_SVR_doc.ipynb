{
 "cells": [
  {
   "cell_type": "code",
   "execution_count": 1,
   "metadata": {},
   "outputs": [],
   "source": [
    "import os\n",
    "import pandas as pd\n",
    "from pyswarm import pso\n",
    "from sklearn.svm import SVR\n",
    "from math import sqrt                                                                            \n",
    "import numpy as np\n",
    "from sklearn.model_selection import KFold, cross_val_score as CVS, train_test_split as TTS\n",
    "from sklearn.metrics import mean_squared_error as MSE\n",
    "import pandas as pd\n"
   ]
  },
  {
   "cell_type": "code",
   "execution_count": 2,
   "metadata": {},
   "outputs": [],
   "source": [
    "# -*- coding: UTF-8 -*-\n",
    "\n",
    "Data = pd.read_csv(r\"F:\\lastpaper\\data\\L8_20191105_docCDOM_2.csv\"\n",
    "                   ,encoding ='unicode_escape'\n",
    "                  ,index_col = 0)\n",
    "\n",
    "X = Data.iloc[:,2:9]\n",
    "\n",
    "Y = Data.iloc[:,0]\n",
    "Xtrain,Xtest,Ytrain,Ytest = TTS(X,Y,test_size=0.3,random_state=40)"
   ]
  },
  {
   "cell_type": "code",
   "execution_count": 7,
   "metadata": {},
   "outputs": [],
   "source": [
    "def svrPso(params):\n",
    "#    Xtrain, Xtest, ytrain, ytest = TTS(X,Y,test_size = 0.2,random_state = 20)\n",
    "    kf = KFold(n_splits=fold_count\n",
    "               ,shuffle=True\n",
    "               ,random_state = 20\n",
    "              )\n",
    "    rmseTotal = 0\n",
    "    for train, test in kf.split(X,Y):\n",
    "        \n",
    "        # Prepare Training and Testing data set. Use cross validation output to split the data sets. \n",
    "        #X_train, X_test, y_train, y_test = X.iloc[train,:], X.iloc[test,:], Y[train,0], Y[test,1]\n",
    "        #previousarrvial = Y[test,1]\n",
    "        nn = SVR( C=params[0], epsilon = params[1])\n",
    "        nn = nn.fit(X.iloc[train,:],Y[train])\n",
    "        result = nn.predict(X.iloc[test,:])\n",
    "        #thisrmse = sqrt(sum((abs(y_test-result))**2)/len(X_test))\n",
    "        thisrmse = MSE(Y[test], result)\n",
    "        rmseTotal = rmseTotal + thisrmse\n",
    "        \n",
    "    rmseCV = rmseTotal/fold_count \n",
    "    #print('Optimizing the Parameters ..... C = {c}, epsilon={e}, RMSE={m}'.format(c=params[0], e=params[1], m=rmseCV))\n",
    "    return rmseCV"
   ]
  },
  {
   "cell_type": "code",
   "execution_count": 8,
   "metadata": {},
   "outputs": [],
   "source": [
    "# svr参数\n",
    "#     kernel: 函数类型，可选\"linear\",\"poly\",\"rbf\",\"sigmoid\",\"precomputed\".默认rbf\n",
    "#     degree: 多项式最高次数，只针对poly，默认为3\n",
    "#     gamma: 函数系数，默认为\"auto\"，设置为1/n_features\n",
    "#     coef0: 常数项，默认为0，只针对poly和sigmoid函数\n",
    "#     tol: 误差达到指定值则停止训练，默认0.001\n",
    "#     C: 惩罚参数，c越大，误分惩罚越大，模型测试准确性变高，但是泛化能力弱；C越小则泛化能力变强，默认为1\n",
    "#     epsilon: 不受误差惩罚的区间宽度，默认0.1\n",
    "#     shrinking: 支持向量的简单化问题的技术：支持向量只占训练样本的少部分，并且大部分支持向量的拉格朗日乘子等于C，默认为True\n",
    "#     cache_size: 内核缓存大小，默认200M\n",
    "#     verbose: 是否启用详细输出，默认为False\n",
    "#     max_iter: 最大迭代次数，默认为-1，表示无穷次迭代\n",
    "\n",
    "\n",
    "# pso参数\n",
    "#     func: 最小化的目标\n",
    "#     lb: 优化参数的下限\n",
    "#     ub: 优化参数的上限\n",
    "\n",
    "#     ieqcons:\n",
    "#     f_ieqcons:\n",
    "#     args:\n",
    "#     kwargs:\n",
    "#     swarmsize:粒子群的大小，初始为200，改为10，用于调整pso运行次数\n",
    "#     omega: 粒子速度缩放系数，默认0.5\n",
    "#     phip: 搜索远离当前层最佳位置的缩放因子，默认0.5\n",
    "#     phig: 搜索远离当前群体最佳位置的缩放因子，默认0.5\n",
    "#     maxiter: 粒子群最大迭代次数，默认100\n",
    "#     minstep: 粒子群最佳位置小于最小步长时，搜索终止，默认1e-8\n",
    "#     minfunc: 目标参数(MAPE)的最低要求满足时，搜索终止，默认1e-8\n",
    "#     debug：进度条，默认为False\n",
    "\n"
   ]
  },
  {
   "cell_type": "code",
   "execution_count": 10,
   "metadata": {},
   "outputs": [
    {
     "name": "stdout",
     "output_type": "stream",
     "text": [
      "************  Initializing PSO based SVR *****************\n",
      "No constraints given.\n",
      "Best after iteration 1: [171.67568055   0.74654199] 0.34208856151582534\n",
      "Best after iteration 2: [171.67568055   0.74654199] 0.34208856151582534\n",
      "Best after iteration 3: [171.67568055   0.74654199] 0.34208856151582534\n",
      "Best after iteration 4: [171.67568055   0.74654199] 0.34208856151582534\n",
      "Best after iteration 5: [171.67568055   0.74654199] 0.34208856151582534\n",
      "Best after iteration 6: [171.67568055   0.74654199] 0.34208856151582534\n",
      "Best after iteration 7: [171.67568055   0.74654199] 0.34208856151582534\n",
      "New best for swarm at iteration 8: [152.62886873   0.74696723] 0.341922891823285\n",
      "Stopping search: Swarm best objective change less than 0.001\n",
      " \n",
      "************ Objective Function optimized *****************\n",
      " \n",
      "ALL Parameters optimized: C = 152.62886872618444, epsilon=0.7469672268506768, Overall RMSE=0.341922891823285\n",
      " \n",
      " \n",
      "************  Optimization Finished *****************\n"
     ]
    }
   ],
   "source": [
    "\n",
    "print(\"************  Initializing PSO based SVR *****************\")    \n",
    "# Load .csv Data from filestore.\n",
    "#load_csvdata()\n",
    "\n",
    "global fold_count  # K-Fold Cross validation.\n",
    "fold_count = 5\n",
    "#Define lower bound (lb) and upper bound (ub) for parameter(s) to be optimized \n",
    "# To optimize more than one parameter, define lb and up values as lower and upper bound of each parameter = [p1,p2,p3,.....pn]\n",
    "#  = [C   , epsilon, ....... other parameters]\n",
    "lb = [10.0, 0.01]\n",
    "ub = [500.0, 1]\n",
    "\n",
    "\n",
    "# xopt: array of parameter(s) for optimized values --- fopt: optimized objective function value  --- svrPSO: function to be optimized.\n",
    "xopt, fopt = pso(svrPso, lb, ub, maxiter=100, debug=True,phip=0.5, omega= 0.9, swarmsize=100, minfunc=0.001 )\n",
    "\n",
    "print(\" \")\n",
    "print(\"************ Objective Function optimized *****************\")\n",
    "print(\" \")\n",
    "print('ALL Parameters optimized: C = {c}, epsilon={e}, Overall RMSE={m}'.format(c=xopt[0], e=xopt[1], m=fopt))\n",
    "print(\" \")\n",
    "print(\" \")\n",
    "print(\"************  Optimization Finished *****************\")"
   ]
  },
  {
   "cell_type": "code",
   "execution_count": 12,
   "metadata": {},
   "outputs": [],
   "source": [
    "## 模型封装\n",
    "\n",
    "\n",
    "import pickle\n",
    "from sklearn.linear_model import LinearRegression as LR\n",
    "\n",
    "bst =  SVR(C=152.62886872618444, epsilon = 0.7469672268506768).fit(Xtrain,Ytrain)\n",
    "\n",
    "#保存模型\n",
    "pickle.dump(bst, open(\"SVR_cdom.dat\",\"wb\"))\n",
    "#注意，open中我们往往使用w或者r作为读取的模式，但其实w与r只能用于文本文件，当我们希望导入的不是文本文件，而\n",
    "#是模型本身的时候，我们使用\"wb\"和\"rb\"作为读取的模式。其中wb表示以二进制写入，rb表示以二进制读入\n",
    "# 导出模型\n",
    "#loaded_model = pickle.load(open(\"SVR_cdom.dat\", \"rb\"))"
   ]
  },
  {
   "cell_type": "code",
   "execution_count": 14,
   "metadata": {},
   "outputs": [
    {
     "data": {
      "text/html": [
       "<div>\n",
       "<style scoped>\n",
       "    .dataframe tbody tr th:only-of-type {\n",
       "        vertical-align: middle;\n",
       "    }\n",
       "\n",
       "    .dataframe tbody tr th {\n",
       "        vertical-align: top;\n",
       "    }\n",
       "\n",
       "    .dataframe thead th {\n",
       "        text-align: right;\n",
       "    }\n",
       "</style>\n",
       "<table border=\"1\" class=\"dataframe\">\n",
       "  <thead>\n",
       "    <tr style=\"text-align: right;\">\n",
       "      <th></th>\n",
       "      <th>0</th>\n",
       "      <th>1</th>\n",
       "      <th>2</th>\n",
       "      <th>3</th>\n",
       "      <th>4</th>\n",
       "    </tr>\n",
       "  </thead>\n",
       "  <tbody>\n",
       "    <tr>\n",
       "      <th>0</th>\n",
       "      <td>Fittime</td>\n",
       "      <td>FitMSE</td>\n",
       "      <td>FitR2</td>\n",
       "      <td>TestMSE</td>\n",
       "      <td>TestR2</td>\n",
       "    </tr>\n",
       "    <tr>\n",
       "      <th>1</th>\n",
       "      <td>00:00:002992</td>\n",
       "      <td>0.342765</td>\n",
       "      <td>0.675078</td>\n",
       "      <td>0.36046</td>\n",
       "      <td>0.598244</td>\n",
       "    </tr>\n",
       "  </tbody>\n",
       "</table>\n",
       "</div>"
      ],
      "text/plain": [
       "              0         1         2        3         4\n",
       "0       Fittime    FitMSE     FitR2  TestMSE    TestR2\n",
       "1  00:00:002992  0.342765  0.675078  0.36046  0.598244"
      ]
     },
     "execution_count": 14,
     "metadata": {},
     "output_type": "execute_result"
    }
   ],
   "source": [
    "from time import time\n",
    "import datetime\n",
    "\n",
    "time0 = time()\n",
    "svr_model = SVR(C=152.62886872618444, epsilon = 0.7469672268506768).fit(Xtrain, Ytrain)\n",
    "\n",
    "time= datetime.datetime.fromtimestamp(time()-time0).strftime(\"%M:%S:%f\") #计算时间戳并转换为时分秒\n",
    "\n",
    "ypreds = svr_model.predict(Xtest)\n",
    "yprods = svr_model.predict(Xtrain)\n",
    "\n",
    "from sklearn.metrics import mean_squared_error as MSE,r2_score\n",
    "test_mse=MSE(Ytest,ypreds)\n",
    "test_r2 = r2_score(Ytest,ypreds)\n",
    "fit_r2 = r2_score(Ytrain,yprods)\n",
    "fit_mse = MSE(Ytrain,yprods)\n",
    "prams= [['Fittime','FitMSE','FitR2','TestMSE','TestR2'],\n",
    "        [time,fit_mse,fit_r2,test_mse,test_r2]]\n",
    "pd.DataFrame(prams)"
   ]
  },
  {
   "cell_type": "code",
   "execution_count": 16,
   "metadata": {},
   "outputs": [
    {
     "name": "stdout",
     "output_type": "stream",
     "text": [
      "xls格式表格写入数据成功！\n"
     ]
    }
   ],
   "source": [
    "# coding=UTF-8\n",
    "import xlrd\n",
    "import xlwt\n",
    "\n",
    "def write_excel_xls(path, sheet_name, value):\n",
    "    workbook = xlwt.Workbook()  # 新建一个工作簿\n",
    "    for k in range(len(value)):\n",
    "        index = len(value[k])  # 获取需要写入数据的行数\n",
    "        data = value[k]\n",
    "        name = sheet_name[k]\n",
    "        sheet = workbook.add_sheet(name)  # 在工作簿中新建一个表格\n",
    "        for i in range(0, index):\n",
    "            for j in range(0, len(data[i])):\n",
    "                sheet.write(i, j, str(data[i][j]))  # 像表格中写入数据（对应的行和列）\n",
    "    workbook.save(path)  # 保存工作簿\n",
    "    print(\"xls格式表格写入数据成功！\")\n",
    "\n",
    "book_name_xls = 'SVR.xls'\n",
    " \n",
    "sheet_name_xls = ['prams','testdata','traindata']\n",
    " \n",
    "value = [[prams],[Ytest,ypreds],[Ytrain,yprods]]\n",
    " \n",
    "write_excel_xls(book_name_xls,sheet_name_xls,value)"
   ]
  },
  {
   "cell_type": "code",
   "execution_count": null,
   "metadata": {},
   "outputs": [],
   "source": []
  }
 ],
 "metadata": {
  "kernelspec": {
   "display_name": "Python 3",
   "language": "python",
   "name": "python3"
  },
  "language_info": {
   "codemirror_mode": {
    "name": "ipython",
    "version": 3
   },
   "file_extension": ".py",
   "mimetype": "text/x-python",
   "name": "python",
   "nbconvert_exporter": "python",
   "pygments_lexer": "ipython3",
   "version": "3.7.6"
  }
 },
 "nbformat": 4,
 "nbformat_minor": 4
}
