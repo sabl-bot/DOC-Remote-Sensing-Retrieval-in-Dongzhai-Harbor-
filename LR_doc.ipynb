{
 "cells": [
  {
   "cell_type": "code",
   "execution_count": 57,
   "metadata": {},
   "outputs": [],
   "source": [
    "from sklearn.model_selection import train_test_split as TTS\n",
    "from sklearn.metrics import mean_squared_error as MSE, r2_score\n",
    "import pickle #模型封装\n",
    "import xgboost as xgb\n",
    "import pandas as pd # 基础的运算库，必备，下同\n",
    "import numpy as np\n",
    "from sklearn.preprocessing import StandardScaler # 数据标准化 均值为0，方差为1的正态分布\n",
    "from sklearn.impute import SimpleImputer # 数据去零补缺\n",
    "\n",
    "from sklearn.model_selection import KFold, cross_val_score as CVS\n",
    "import matplotlib.pyplot as plt \n",
    "from time import time\n",
    "import datetime\n",
    "from xgboost import XGBRegressor as XGBR\n",
    "from sklearn.model_selection import GridSearchCV\n",
    "from sklearn.ensemble import RandomForestRegressor as RFR\n",
    "from sklearn.linear_model import LinearRegression as LR"
   ]
  },
  {
   "cell_type": "code",
   "execution_count": 76,
   "metadata": {},
   "outputs": [],
   "source": [
    "# 训练数据输入\n",
    "Data = pd.read_csv(r\"F:\\lastpaper\\data\\L8_20191105_docCDOM_2.csv\"\n",
    "                   , index_col = 0\n",
    "                  )\n",
    "\n",
    "X = Data.iloc[:,2:9]\n",
    "X.rename(columns={'b1_L8_9111':'0'\n",
    "                 ,\"b2_L8_9111\":'1'\n",
    "                 ,\"b3_L8_9111\":'2'\n",
    "                 ,\"b4_L8_9111\":'3'\n",
    "                 ,\"b5_L8_9111\":'4'\n",
    "                 ,\"b6_L8_9111\":'5'\n",
    "                 ,\"b7_L8_9111\":'6'\n",
    "                 },inplace=True)\n",
    "#     X = np.array(X)\n",
    "#     for col in range(X.shape[1]):\n",
    "#         median=np.median(X[:,col])\n",
    "#         for row in range(X.shape[0]):\n",
    "#             if X[row,col] <= 0:\n",
    "#                 X[row,col] = median\n",
    "#     scaler = StandardScaler() # 标准化\n",
    "#     X = scaler.fit_transform(X)\n",
    "\n",
    "Y = Data.iloc[:,0]\n",
    "Xtrain,Xtest,Ytrain,Ytest = TTS(X,Y,test_size=0.3,random_state=40)"
   ]
  },
  {
   "cell_type": "code",
   "execution_count": 78,
   "metadata": {},
   "outputs": [],
   "source": [
    "## 模型封装\n",
    "\n",
    "\n",
    "import pickle\n",
    "from sklearn.linear_model import LinearRegression as LR\n",
    "\n",
    "bst = LR().fit(Xtrain,Ytrain)\n",
    "\n",
    "#保存模型\n",
    "pickle.dump(bst, open(\"LR_cdom.dat\",\"wb\"))\n",
    "#注意，open中我们往往使用w或者r作为读取的模式，但其实w与r只能用于文本文件，当我们希望导入的不是文本文件，而\n",
    "#是模型本身的时候，我们使用\"wb\"和\"rb\"作为读取的模式。其中wb表示以二进制写入，rb表示以二进制读入\n",
    "# 导出模型\n",
    "#loaded_model = pickle.load(open(\"LR_cdom.dat\", \"rb\"))"
   ]
  },
  {
   "cell_type": "code",
   "execution_count": 71,
   "metadata": {},
   "outputs": [
    {
     "data": {
      "text/html": [
       "<div>\n",
       "<style scoped>\n",
       "    .dataframe tbody tr th:only-of-type {\n",
       "        vertical-align: middle;\n",
       "    }\n",
       "\n",
       "    .dataframe tbody tr th {\n",
       "        vertical-align: top;\n",
       "    }\n",
       "\n",
       "    .dataframe thead th {\n",
       "        text-align: right;\n",
       "    }\n",
       "</style>\n",
       "<table border=\"1\" class=\"dataframe\">\n",
       "  <thead>\n",
       "    <tr style=\"text-align: right;\">\n",
       "      <th></th>\n",
       "      <th>0</th>\n",
       "      <th>1</th>\n",
       "      <th>2</th>\n",
       "      <th>3</th>\n",
       "      <th>4</th>\n",
       "    </tr>\n",
       "  </thead>\n",
       "  <tbody>\n",
       "    <tr>\n",
       "      <th>0</th>\n",
       "      <td>Fittime</td>\n",
       "      <td>FitMSE</td>\n",
       "      <td>FitR2</td>\n",
       "      <td>TestMSE</td>\n",
       "      <td>TestR2</td>\n",
       "    </tr>\n",
       "    <tr>\n",
       "      <th>1</th>\n",
       "      <td>00:00:000998</td>\n",
       "      <td>0.442559</td>\n",
       "      <td>0.580479</td>\n",
       "      <td>0.313215</td>\n",
       "      <td>0.650902</td>\n",
       "    </tr>\n",
       "  </tbody>\n",
       "</table>\n",
       "</div>"
      ],
      "text/plain": [
       "              0         1         2         3         4\n",
       "0       Fittime    FitMSE     FitR2   TestMSE    TestR2\n",
       "1  00:00:000998  0.442559  0.580479  0.313215  0.650902"
      ]
     },
     "execution_count": 71,
     "metadata": {},
     "output_type": "execute_result"
    }
   ],
   "source": [
    "from time import time\n",
    "import datetime\n",
    "\n",
    "time0 = time()\n",
    "reg = LR().fit(Xtrain, Ytrain)\n",
    "\n",
    "time= datetime.datetime.fromtimestamp(time()-time0).strftime(\"%M:%S:%f\") #计算时间戳并转换为时分秒\n",
    "ypreds = reg.predict(Xtest)\n",
    "yprods = reg.predict(Xtrain)\n",
    "\n",
    "from sklearn.metrics import mean_squared_error as MSE,r2_score\n",
    "test_mse=MSE(Ytest,ypreds)\n",
    "test_r2 = r2_score(Ytest,ypreds)\n",
    "fit_r2 = r2_score(Ytrain,yprods)\n",
    "fit_mse = MSE(Ytrain,yprods)\n",
    "prams= [['Fittime','FitMSE','FitR2','TestMSE','TestR2'],\n",
    "        [time,fit_mse,fit_r2,test_mse,test_r2]]\n",
    "pd.DataFrame(prams)\n"
   ]
  },
  {
   "cell_type": "code",
   "execution_count": 79,
   "metadata": {},
   "outputs": [
    {
     "name": "stdout",
     "output_type": "stream",
     "text": [
      "xls格式表格写入数据成功！\n"
     ]
    }
   ],
   "source": [
    "# coding=UTF-8\n",
    "import xlrd\n",
    "import xlwt\n",
    "\n",
    "def write_excel_xls(path, sheet_name, value):\n",
    "    workbook = xlwt.Workbook()  # 新建一个工作簿\n",
    "    for k in range(len(value)):\n",
    "        index = len(value[k])  # 获取需要写入数据的行数\n",
    "        data = value[k]\n",
    "        name = sheet_name[k]\n",
    "        sheet = workbook.add_sheet(name)  # 在工作簿中新建一个表格\n",
    "        for i in range(0, index):\n",
    "            for j in range(0, len(data[i])):\n",
    "                sheet.write(i, j, str(data[i][j]))  # 像表格中写入数据（对应的行和列）\n",
    "    workbook.save(path)  # 保存工作簿\n",
    "    print(\"xls格式表格写入数据成功！\")\n",
    "\n",
    "book_name_xls = 'LR.xls'\n",
    " \n",
    "sheet_name_xls = ['prams','testdata','traindata']\n",
    " \n",
    "value = [[prams],[Ytest,ypreds],[Ytrain,yprods]]\n",
    " \n",
    "write_excel_xls(book_name_xls,sheet_name_xls,value)"
   ]
  },
  {
   "cell_type": "code",
   "execution_count": 9,
   "metadata": {},
   "outputs": [],
   "source": [
    "# 查看线性回归参数\n",
    "reg.coef_ # 回归系数\n",
    "[*zip(Xtrain.columns,reg.coef_)] # 使用哑变量方式打开\n",
    "\n",
    "reg.intercept_ # 回归方程截距"
   ]
  },
  {
   "cell_type": "code",
   "execution_count": 26,
   "metadata": {},
   "outputs": [
    {
     "name": "stderr",
     "output_type": "stream",
     "text": [
      "C:\\Users\\RSof4\\anaconda3\\lib\\site-packages\\matplotlib\\collections.py:857: RuntimeWarning: invalid value encountered in sqrt\n",
      "  scale = np.sqrt(self._sizes) * dpi / 72.0 * self._factor\n"
     ]
    },
    {
     "data": {
      "image/png": "[encoded data removed]",
      "text/plain": [
       "<Figure size 576x432 with 1 Axes>"
      ]
     },
     "metadata": {
      "needs_background": "light"
     },
     "output_type": "display_data"
    }
   ],
   "source": [
    "plt.figure(figsize=(8,6))\n",
    "\n",
    "plt.scatter(Ytest,yhat,marker='o',\n",
    "            s=(Ytest-yhat)/Ytest*100,\n",
    "            cmap='Reds',\n",
    "            #c=y,\n",
    "            edgecolor='black')\n",
    "plt.scatter(Ytrain,reg.predict(Xtrain),marker='o',\n",
    "            s=(Ytrain-reg.predict(Xtrain))/Ytrain*100,\n",
    "            cmap='yellows',\n",
    "            #c=y,\n",
    "            edgecolor='black')\n",
    "plt.grid(True, linestyle='--')\n",
    "# s：散点的大小\n",
    "# c：散点的颜色\n",
    "# vmin,vmax：亮度设置，标量\n",
    "# cmap：colormap"
   ]
  }
 ],
 "metadata": {
  "kernelspec": {
   "display_name": "Python 3",
   "language": "python",
   "name": "python3"
  },
  "language_info": {
   "codemirror_mode": {
    "name": "ipython",
    "version": 3
   },
   "file_extension": ".py",
   "mimetype": "text/x-python",
   "name": "python",
   "nbconvert_exporter": "python",
   "pygments_lexer": "ipython3",
   "version": "3.7.6"
  }
 },
 "nbformat": 4,
 "nbformat_minor": 4
}
